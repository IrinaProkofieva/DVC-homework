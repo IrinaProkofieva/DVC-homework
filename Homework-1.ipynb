{
 "cells": [
  {
   "cell_type": "code",
   "execution_count": 1,
   "id": "95e13f49",
   "metadata": {},
   "outputs": [],
   "source": [
    "import pandas as pd"
   ]
  },
  {
   "cell_type": "code",
   "execution_count": 6,
   "id": "f5a795e4",
   "metadata": {},
   "outputs": [],
   "source": [
    "import nltk\n",
    "import spacy\n",
    "nlp = spacy.load(\"en_core_web_sm\")"
   ]
  },
  {
   "cell_type": "code",
   "execution_count": 12,
   "id": "aa72b7df",
   "metadata": {},
   "outputs": [],
   "source": [
    "from sklearn.model_selection import train_test_split"
   ]
  },
  {
   "cell_type": "markdown",
   "id": "9acb25ef",
   "metadata": {},
   "source": [
    "**Prepare data**"
   ]
  },
  {
   "cell_type": "code",
   "execution_count": 4,
   "id": "b12fa733",
   "metadata": {},
   "outputs": [
    {
     "data": {
      "text/html": [
       "<div>\n",
       "<style scoped>\n",
       "    .dataframe tbody tr th:only-of-type {\n",
       "        vertical-align: middle;\n",
       "    }\n",
       "\n",
       "    .dataframe tbody tr th {\n",
       "        vertical-align: top;\n",
       "    }\n",
       "\n",
       "    .dataframe thead th {\n",
       "        text-align: right;\n",
       "    }\n",
       "</style>\n",
       "<table border=\"1\" class=\"dataframe\">\n",
       "  <thead>\n",
       "    <tr style=\"text-align: right;\">\n",
       "      <th></th>\n",
       "      <th>comment</th>\n",
       "      <th>isHate</th>\n",
       "    </tr>\n",
       "  </thead>\n",
       "  <tbody>\n",
       "    <tr>\n",
       "      <th>0</th>\n",
       "      <td>You should know women's sports are a joke</td>\n",
       "      <td>1.0</td>\n",
       "    </tr>\n",
       "    <tr>\n",
       "      <th>1</th>\n",
       "      <td>You look like Sloth with deeper Down’s syndrome</td>\n",
       "      <td>1.0</td>\n",
       "    </tr>\n",
       "    <tr>\n",
       "      <th>2</th>\n",
       "      <td>You look like Russian and speak like Indian. B...</td>\n",
       "      <td>1.0</td>\n",
       "    </tr>\n",
       "    <tr>\n",
       "      <th>3</th>\n",
       "      <td>Women deserve to be abused, I guess.</td>\n",
       "      <td>1.0</td>\n",
       "    </tr>\n",
       "    <tr>\n",
       "      <th>4</th>\n",
       "      <td>Women are made for making babies and cooking d...</td>\n",
       "      <td>1.0</td>\n",
       "    </tr>\n",
       "    <tr>\n",
       "      <th>...</th>\n",
       "      <td>...</td>\n",
       "      <td>...</td>\n",
       "    </tr>\n",
       "    <tr>\n",
       "      <th>993</th>\n",
       "      <td>From the midnight sun where the hot springs blow</td>\n",
       "      <td>0.0</td>\n",
       "    </tr>\n",
       "    <tr>\n",
       "      <th>994</th>\n",
       "      <td>Don't say I'm not your type</td>\n",
       "      <td>0.0</td>\n",
       "    </tr>\n",
       "    <tr>\n",
       "      <th>995</th>\n",
       "      <td>And therefore never send to know for whom the...</td>\n",
       "      <td>0.0</td>\n",
       "    </tr>\n",
       "    <tr>\n",
       "      <th>996</th>\n",
       "      <td>And I can't stand another day</td>\n",
       "      <td>0.0</td>\n",
       "    </tr>\n",
       "    <tr>\n",
       "      <th>997</th>\n",
       "      <td>All values, unless otherwise stated, are in U...</td>\n",
       "      <td>0.0</td>\n",
       "    </tr>\n",
       "  </tbody>\n",
       "</table>\n",
       "<p>998 rows × 2 columns</p>\n",
       "</div>"
      ],
      "text/plain": [
       "                                               comment  isHate\n",
       "0            You should know women's sports are a joke     1.0\n",
       "1      You look like Sloth with deeper Down’s syndrome     1.0\n",
       "2    You look like Russian and speak like Indian. B...     1.0\n",
       "3                 Women deserve to be abused, I guess.     1.0\n",
       "4    Women are made for making babies and cooking d...     1.0\n",
       "..                                                 ...     ...\n",
       "993   From the midnight sun where the hot springs blow     0.0\n",
       "994                        Don't say I'm not your type     0.0\n",
       "995   And therefore never send to know for whom the...     0.0\n",
       "996                      And I can't stand another day     0.0\n",
       "997   All values, unless otherwise stated, are in U...     0.0\n",
       "\n",
       "[998 rows x 2 columns]"
      ]
     },
     "execution_count": 4,
     "metadata": {},
     "output_type": "execute_result"
    }
   ],
   "source": [
    "df = pd.read_csv(\"data/data.csv\", sep=';')\n",
    "df"
   ]
  },
  {
   "cell_type": "code",
   "execution_count": 7,
   "id": "a0f10375",
   "metadata": {},
   "outputs": [],
   "source": [
    "def prepare_data(data):\n",
    "    return data.apply(\n",
    "      lambda x: ' '.join(\n",
    "          token.lemma_.lower() for token in nlp(x) if \n",
    "          not token.is_stop \n",
    "          and not token.is_punct\n",
    "          and not token.is_digit\n",
    "          and not token.like_email\n",
    "          and not token.like_num\n",
    "          and not token.is_space\n",
    "          and token.is_ascii\n",
    "          and token.is_alpha\n",
    "      )\n",
    "  )"
   ]
  },
  {
   "cell_type": "code",
   "execution_count": 8,
   "id": "5528e937",
   "metadata": {},
   "outputs": [],
   "source": [
    "df['comment'] = prepare_data(df['comment'])"
   ]
  },
  {
   "cell_type": "code",
   "execution_count": 9,
   "id": "93de6d0e",
   "metadata": {},
   "outputs": [
    {
     "data": {
      "text/html": [
       "<div>\n",
       "<style scoped>\n",
       "    .dataframe tbody tr th:only-of-type {\n",
       "        vertical-align: middle;\n",
       "    }\n",
       "\n",
       "    .dataframe tbody tr th {\n",
       "        vertical-align: top;\n",
       "    }\n",
       "\n",
       "    .dataframe thead th {\n",
       "        text-align: right;\n",
       "    }\n",
       "</style>\n",
       "<table border=\"1\" class=\"dataframe\">\n",
       "  <thead>\n",
       "    <tr style=\"text-align: right;\">\n",
       "      <th></th>\n",
       "      <th>comment</th>\n",
       "      <th>isHate</th>\n",
       "    </tr>\n",
       "  </thead>\n",
       "  <tbody>\n",
       "    <tr>\n",
       "      <th>0</th>\n",
       "      <td>know woman sport joke</td>\n",
       "      <td>1.0</td>\n",
       "    </tr>\n",
       "    <tr>\n",
       "      <th>1</th>\n",
       "      <td>look like sloth deep syndrome</td>\n",
       "      <td>1.0</td>\n",
       "    </tr>\n",
       "    <tr>\n",
       "      <th>2</th>\n",
       "      <td>look like russian speak like indian disgusting...</td>\n",
       "      <td>1.0</td>\n",
       "    </tr>\n",
       "    <tr>\n",
       "      <th>3</th>\n",
       "      <td>woman deserve abuse guess</td>\n",
       "      <td>1.0</td>\n",
       "    </tr>\n",
       "    <tr>\n",
       "      <th>4</th>\n",
       "      <td>woman make baby cooking dinner</td>\n",
       "      <td>1.0</td>\n",
       "    </tr>\n",
       "    <tr>\n",
       "      <th>...</th>\n",
       "      <td>...</td>\n",
       "      <td>...</td>\n",
       "    </tr>\n",
       "    <tr>\n",
       "      <th>993</th>\n",
       "      <td>midnight sun hot spring blow</td>\n",
       "      <td>0.0</td>\n",
       "    </tr>\n",
       "    <tr>\n",
       "      <th>994</th>\n",
       "      <td>type</td>\n",
       "      <td>0.0</td>\n",
       "    </tr>\n",
       "    <tr>\n",
       "      <th>995</th>\n",
       "      <td>send know bell toll</td>\n",
       "      <td>0.0</td>\n",
       "    </tr>\n",
       "    <tr>\n",
       "      <th>996</th>\n",
       "      <td>stand day</td>\n",
       "      <td>0.0</td>\n",
       "    </tr>\n",
       "    <tr>\n",
       "      <th>997</th>\n",
       "      <td>value state dollar</td>\n",
       "      <td>0.0</td>\n",
       "    </tr>\n",
       "  </tbody>\n",
       "</table>\n",
       "<p>998 rows × 2 columns</p>\n",
       "</div>"
      ],
      "text/plain": [
       "                                               comment  isHate\n",
       "0                                know woman sport joke     1.0\n",
       "1                        look like sloth deep syndrome     1.0\n",
       "2    look like russian speak like indian disgusting...     1.0\n",
       "3                            woman deserve abuse guess     1.0\n",
       "4                       woman make baby cooking dinner     1.0\n",
       "..                                                 ...     ...\n",
       "993                       midnight sun hot spring blow     0.0\n",
       "994                                               type     0.0\n",
       "995                                send know bell toll     0.0\n",
       "996                                          stand day     0.0\n",
       "997                                 value state dollar     0.0\n",
       "\n",
       "[998 rows x 2 columns]"
      ]
     },
     "execution_count": 9,
     "metadata": {},
     "output_type": "execute_result"
    }
   ],
   "source": [
    "df"
   ]
  },
  {
   "cell_type": "code",
   "execution_count": 13,
   "id": "cb5daca1",
   "metadata": {},
   "outputs": [],
   "source": [
    "train, test = train_test_split(df, test_size=0.2)"
   ]
  },
  {
   "cell_type": "code",
   "execution_count": 14,
   "id": "9473317a",
   "metadata": {},
   "outputs": [
    {
     "data": {
      "text/html": [
       "<div>\n",
       "<style scoped>\n",
       "    .dataframe tbody tr th:only-of-type {\n",
       "        vertical-align: middle;\n",
       "    }\n",
       "\n",
       "    .dataframe tbody tr th {\n",
       "        vertical-align: top;\n",
       "    }\n",
       "\n",
       "    .dataframe thead th {\n",
       "        text-align: right;\n",
       "    }\n",
       "</style>\n",
       "<table border=\"1\" class=\"dataframe\">\n",
       "  <thead>\n",
       "    <tr style=\"text-align: right;\">\n",
       "      <th></th>\n",
       "      <th>comment</th>\n",
       "      <th>isHate</th>\n",
       "    </tr>\n",
       "  </thead>\n",
       "  <tbody>\n",
       "    <tr>\n",
       "      <th>864</th>\n",
       "      <td>want people throw skittle wedding</td>\n",
       "      <td>0.000000</td>\n",
       "    </tr>\n",
       "    <tr>\n",
       "      <th>950</th>\n",
       "      <td>congratu fuckin lation pitbull owner getting b...</td>\n",
       "      <td>0.000000</td>\n",
       "    </tr>\n",
       "    <tr>\n",
       "      <th>837</th>\n",
       "      <td>m glad friend</td>\n",
       "      <td>0.000000</td>\n",
       "    </tr>\n",
       "    <tr>\n",
       "      <th>566</th>\n",
       "      <td>people nation end migration</td>\n",
       "      <td>0.166667</td>\n",
       "    </tr>\n",
       "    <tr>\n",
       "      <th>567</th>\n",
       "      <td>ok hell terrorist gun ammos</td>\n",
       "      <td>0.166667</td>\n",
       "    </tr>\n",
       "    <tr>\n",
       "      <th>...</th>\n",
       "      <td>...</td>\n",
       "      <td>...</td>\n",
       "    </tr>\n",
       "    <tr>\n",
       "      <th>437</th>\n",
       "      <td>yo go hell homosexual god like</td>\n",
       "      <td>0.333333</td>\n",
       "    </tr>\n",
       "    <tr>\n",
       "      <th>922</th>\n",
       "      <td>god humble question u almighty y u send earth ...</td>\n",
       "      <td>0.000000</td>\n",
       "    </tr>\n",
       "    <tr>\n",
       "      <th>810</th>\n",
       "      <td>love roast</td>\n",
       "      <td>0.000000</td>\n",
       "    </tr>\n",
       "    <tr>\n",
       "      <th>16</th>\n",
       "      <td>clear european differ nigger shitskin human</td>\n",
       "      <td>1.000000</td>\n",
       "    </tr>\n",
       "    <tr>\n",
       "      <th>455</th>\n",
       "      <td>wheelchaired woman actually scary</td>\n",
       "      <td>0.333333</td>\n",
       "    </tr>\n",
       "  </tbody>\n",
       "</table>\n",
       "<p>798 rows × 2 columns</p>\n",
       "</div>"
      ],
      "text/plain": [
       "                                               comment    isHate\n",
       "864                  want people throw skittle wedding  0.000000\n",
       "950  congratu fuckin lation pitbull owner getting b...  0.000000\n",
       "837                                      m glad friend  0.000000\n",
       "566                        people nation end migration  0.166667\n",
       "567                        ok hell terrorist gun ammos  0.166667\n",
       "..                                                 ...       ...\n",
       "437                     yo go hell homosexual god like  0.333333\n",
       "922  god humble question u almighty y u send earth ...  0.000000\n",
       "810                                         love roast  0.000000\n",
       "16         clear european differ nigger shitskin human  1.000000\n",
       "455                  wheelchaired woman actually scary  0.333333\n",
       "\n",
       "[798 rows x 2 columns]"
      ]
     },
     "execution_count": 14,
     "metadata": {},
     "output_type": "execute_result"
    }
   ],
   "source": [
    "train"
   ]
  },
  {
   "cell_type": "code",
   "execution_count": 15,
   "id": "abb6748e",
   "metadata": {},
   "outputs": [],
   "source": [
    "train.to_csv(\"data/train.csv\", sep=';')\n",
    "test.to_csv(\"data/test.csv\", sep=';')"
   ]
  },
  {
   "cell_type": "markdown",
   "id": "fe6951df",
   "metadata": {},
   "source": [
    "**Train model**"
   ]
  },
  {
   "cell_type": "code",
   "execution_count": 65,
   "id": "521da205",
   "metadata": {},
   "outputs": [],
   "source": [
    "from sklearn.feature_extraction.text import CountVectorizer\n",
    "from sklearn.pipeline import Pipeline\n",
    "from sklearn.linear_model import LinearRegression\n",
    "from sklearn.metrics import mean_squared_error\n",
    "import yaml\n",
    "import json\n",
    "import optuna"
   ]
  },
  {
   "cell_type": "code",
   "execution_count": 23,
   "id": "c9716450",
   "metadata": {},
   "outputs": [],
   "source": [
    "params = {}\n",
    "with open('params.yaml') as file:\n",
    "    params = yaml.load(file, Loader=yaml.FullLoader)"
   ]
  },
  {
   "cell_type": "code",
   "execution_count": 25,
   "id": "ec49dff0",
   "metadata": {},
   "outputs": [
    {
     "data": {
      "text/plain": [
       "0.945"
      ]
     },
     "execution_count": 25,
     "metadata": {},
     "output_type": "execute_result"
    }
   ],
   "source": [
    "params['count-vectorizer']['min_df']"
   ]
  },
  {
   "cell_type": "code",
   "execution_count": 48,
   "id": "2c49f50e",
   "metadata": {},
   "outputs": [],
   "source": [
    "train_df = pd.read_csv(\"data/train.csv\", sep=';')\n",
    "test_df = pd.read_csv(\"data/test.csv\", sep=';')"
   ]
  },
  {
   "cell_type": "code",
   "execution_count": 57,
   "id": "f10a935d",
   "metadata": {},
   "outputs": [],
   "source": [
    "def objective(trial):\n",
    "    min_df = trial.suggest_loguniform('min_df', 0.00001, 0.25)\n",
    "    max_df = trial.suggest_loguniform('max_df', 0.75, 1.0)\n",
    "    model = Pipeline(\n",
    "        steps=[\n",
    "            ('counter', CountVectorizer(min_df=min_df, max_df=max_df)),\n",
    "            ('reg', LinearRegression())\n",
    "        ]\n",
    "    )\n",
    "    model.fit(train_df['comment'], train_df['isHate'])\n",
    "    predictions = model.predict(test_df['comment'])\n",
    "    mse = mean_squared_error(test_df['isHate'], predictions)\n",
    "    return mse"
   ]
  },
  {
   "cell_type": "code",
   "execution_count": 61,
   "id": "8caeea38",
   "metadata": {},
   "outputs": [
    {
     "name": "stderr",
     "output_type": "stream",
     "text": [
      "[I 2023-06-10 02:02:41,908] A new study created in memory with name: no-name-0a71be66-aaa9-4eaa-8c95-ad7102e1b652\n",
      "/var/folders/40/566_m1zx41n6yjln_7kf7frrh0mrs_/T/ipykernel_61475/1880862330.py:2: FutureWarning: suggest_loguniform has been deprecated in v3.0.0. This feature will be removed in v6.0.0. See https://github.com/optuna/optuna/releases/tag/v3.0.0. Use suggest_float(..., log=True) instead.\n",
      "  min_df = trial.suggest_loguniform('min_df', 0.00001, 0.25)\n",
      "/var/folders/40/566_m1zx41n6yjln_7kf7frrh0mrs_/T/ipykernel_61475/1880862330.py:3: FutureWarning: suggest_loguniform has been deprecated in v3.0.0. This feature will be removed in v6.0.0. See https://github.com/optuna/optuna/releases/tag/v3.0.0. Use suggest_float(..., log=True) instead.\n",
      "  max_df = trial.suggest_loguniform('max_df', 0.75, 1.0)\n",
      "[I 2023-06-10 02:02:41,945] Trial 0 finished with value: 0.1354294743210134 and parameters: {'min_df': 0.01585453197488779, 'max_df': 0.9280149071912048}. Best is trial 0 with value: 0.1354294743210134.\n",
      "/var/folders/40/566_m1zx41n6yjln_7kf7frrh0mrs_/T/ipykernel_61475/1880862330.py:2: FutureWarning: suggest_loguniform has been deprecated in v3.0.0. This feature will be removed in v6.0.0. See https://github.com/optuna/optuna/releases/tag/v3.0.0. Use suggest_float(..., log=True) instead.\n",
      "  min_df = trial.suggest_loguniform('min_df', 0.00001, 0.25)\n",
      "/var/folders/40/566_m1zx41n6yjln_7kf7frrh0mrs_/T/ipykernel_61475/1880862330.py:3: FutureWarning: suggest_loguniform has been deprecated in v3.0.0. This feature will be removed in v6.0.0. See https://github.com/optuna/optuna/releases/tag/v3.0.0. Use suggest_float(..., log=True) instead.\n",
      "  max_df = trial.suggest_loguniform('max_df', 0.75, 1.0)\n",
      "[I 2023-06-10 02:02:41,996] Trial 1 finished with value: 0.3743646349247611 and parameters: {'min_df': 0.00044579365685716723, 'max_df': 0.8445671172101714}. Best is trial 0 with value: 0.1354294743210134.\n",
      "/var/folders/40/566_m1zx41n6yjln_7kf7frrh0mrs_/T/ipykernel_61475/1880862330.py:2: FutureWarning: suggest_loguniform has been deprecated in v3.0.0. This feature will be removed in v6.0.0. See https://github.com/optuna/optuna/releases/tag/v3.0.0. Use suggest_float(..., log=True) instead.\n",
      "  min_df = trial.suggest_loguniform('min_df', 0.00001, 0.25)\n",
      "/var/folders/40/566_m1zx41n6yjln_7kf7frrh0mrs_/T/ipykernel_61475/1880862330.py:3: FutureWarning: suggest_loguniform has been deprecated in v3.0.0. This feature will be removed in v6.0.0. See https://github.com/optuna/optuna/releases/tag/v3.0.0. Use suggest_float(..., log=True) instead.\n",
      "  max_df = trial.suggest_loguniform('max_df', 0.75, 1.0)\n",
      "[I 2023-06-10 02:02:42,013] Trial 2 finished with value: 0.2933887405669014 and parameters: {'min_df': 0.004983660196059041, 'max_df': 0.9767992369266811}. Best is trial 0 with value: 0.1354294743210134.\n",
      "/var/folders/40/566_m1zx41n6yjln_7kf7frrh0mrs_/T/ipykernel_61475/1880862330.py:2: FutureWarning: suggest_loguniform has been deprecated in v3.0.0. This feature will be removed in v6.0.0. See https://github.com/optuna/optuna/releases/tag/v3.0.0. Use suggest_float(..., log=True) instead.\n",
      "  min_df = trial.suggest_loguniform('min_df', 0.00001, 0.25)\n",
      "/var/folders/40/566_m1zx41n6yjln_7kf7frrh0mrs_/T/ipykernel_61475/1880862330.py:3: FutureWarning: suggest_loguniform has been deprecated in v3.0.0. This feature will be removed in v6.0.0. See https://github.com/optuna/optuna/releases/tag/v3.0.0. Use suggest_float(..., log=True) instead.\n",
      "  max_df = trial.suggest_loguniform('max_df', 0.75, 1.0)\n",
      "[I 2023-06-10 02:02:42,022] Trial 3 finished with value: 0.1401620669632238 and parameters: {'min_df': 0.1294322581327188, 'max_df': 0.7534380960994647}. Best is trial 0 with value: 0.1354294743210134.\n",
      "/var/folders/40/566_m1zx41n6yjln_7kf7frrh0mrs_/T/ipykernel_61475/1880862330.py:2: FutureWarning: suggest_loguniform has been deprecated in v3.0.0. This feature will be removed in v6.0.0. See https://github.com/optuna/optuna/releases/tag/v3.0.0. Use suggest_float(..., log=True) instead.\n",
      "  min_df = trial.suggest_loguniform('min_df', 0.00001, 0.25)\n",
      "/var/folders/40/566_m1zx41n6yjln_7kf7frrh0mrs_/T/ipykernel_61475/1880862330.py:3: FutureWarning: suggest_loguniform has been deprecated in v3.0.0. This feature will be removed in v6.0.0. See https://github.com/optuna/optuna/releases/tag/v3.0.0. Use suggest_float(..., log=True) instead.\n",
      "  max_df = trial.suggest_loguniform('max_df', 0.75, 1.0)\n",
      "[I 2023-06-10 02:02:42,051] Trial 4 finished with value: 0.3743646349247611 and parameters: {'min_df': 2.8930324241343287e-05, 'max_df': 0.8284404097534033}. Best is trial 0 with value: 0.1354294743210134.\n",
      "/var/folders/40/566_m1zx41n6yjln_7kf7frrh0mrs_/T/ipykernel_61475/1880862330.py:2: FutureWarning: suggest_loguniform has been deprecated in v3.0.0. This feature will be removed in v6.0.0. See https://github.com/optuna/optuna/releases/tag/v3.0.0. Use suggest_float(..., log=True) instead.\n",
      "  min_df = trial.suggest_loguniform('min_df', 0.00001, 0.25)\n",
      "/var/folders/40/566_m1zx41n6yjln_7kf7frrh0mrs_/T/ipykernel_61475/1880862330.py:3: FutureWarning: suggest_loguniform has been deprecated in v3.0.0. This feature will be removed in v6.0.0. See https://github.com/optuna/optuna/releases/tag/v3.0.0. Use suggest_float(..., log=True) instead.\n",
      "  max_df = trial.suggest_loguniform('max_df', 0.75, 1.0)\n",
      "[I 2023-06-10 02:02:42,077] Trial 5 finished with value: 0.3743646349247611 and parameters: {'min_df': 3.536695141760067e-05, 'max_df': 0.9436366946030156}. Best is trial 0 with value: 0.1354294743210134.\n",
      "/var/folders/40/566_m1zx41n6yjln_7kf7frrh0mrs_/T/ipykernel_61475/1880862330.py:2: FutureWarning: suggest_loguniform has been deprecated in v3.0.0. This feature will be removed in v6.0.0. See https://github.com/optuna/optuna/releases/tag/v3.0.0. Use suggest_float(..., log=True) instead.\n",
      "  min_df = trial.suggest_loguniform('min_df', 0.00001, 0.25)\n",
      "/var/folders/40/566_m1zx41n6yjln_7kf7frrh0mrs_/T/ipykernel_61475/1880862330.py:3: FutureWarning: suggest_loguniform has been deprecated in v3.0.0. This feature will be removed in v6.0.0. See https://github.com/optuna/optuna/releases/tag/v3.0.0. Use suggest_float(..., log=True) instead.\n",
      "  max_df = trial.suggest_loguniform('max_df', 0.75, 1.0)\n",
      "[I 2023-06-10 02:02:42,083] Trial 6 finished with value: 0.1403641108778179 and parameters: {'min_df': 0.08652731291905466, 'max_df': 0.8181654716888307}. Best is trial 0 with value: 0.1354294743210134.\n",
      "/var/folders/40/566_m1zx41n6yjln_7kf7frrh0mrs_/T/ipykernel_61475/1880862330.py:2: FutureWarning: suggest_loguniform has been deprecated in v3.0.0. This feature will be removed in v6.0.0. See https://github.com/optuna/optuna/releases/tag/v3.0.0. Use suggest_float(..., log=True) instead.\n",
      "  min_df = trial.suggest_loguniform('min_df', 0.00001, 0.25)\n",
      "/var/folders/40/566_m1zx41n6yjln_7kf7frrh0mrs_/T/ipykernel_61475/1880862330.py:3: FutureWarning: suggest_loguniform has been deprecated in v3.0.0. This feature will be removed in v6.0.0. See https://github.com/optuna/optuna/releases/tag/v3.0.0. Use suggest_float(..., log=True) instead.\n",
      "  max_df = trial.suggest_loguniform('max_df', 0.75, 1.0)\n",
      "[I 2023-06-10 02:02:42,090] Trial 7 finished with value: 0.1403641108778179 and parameters: {'min_df': 0.10876145580644897, 'max_df': 0.8444494445844616}. Best is trial 0 with value: 0.1354294743210134.\n",
      "/var/folders/40/566_m1zx41n6yjln_7kf7frrh0mrs_/T/ipykernel_61475/1880862330.py:2: FutureWarning: suggest_loguniform has been deprecated in v3.0.0. This feature will be removed in v6.0.0. See https://github.com/optuna/optuna/releases/tag/v3.0.0. Use suggest_float(..., log=True) instead.\n",
      "  min_df = trial.suggest_loguniform('min_df', 0.00001, 0.25)\n",
      "/var/folders/40/566_m1zx41n6yjln_7kf7frrh0mrs_/T/ipykernel_61475/1880862330.py:3: FutureWarning: suggest_loguniform has been deprecated in v3.0.0. This feature will be removed in v6.0.0. See https://github.com/optuna/optuna/releases/tag/v3.0.0. Use suggest_float(..., log=True) instead.\n",
      "  max_df = trial.suggest_loguniform('max_df', 0.75, 1.0)\n",
      "[I 2023-06-10 02:02:42,118] Trial 8 finished with value: 0.3743646349247611 and parameters: {'min_df': 0.0002463522678152048, 'max_df': 0.809096734362907}. Best is trial 0 with value: 0.1354294743210134.\n",
      "/var/folders/40/566_m1zx41n6yjln_7kf7frrh0mrs_/T/ipykernel_61475/1880862330.py:2: FutureWarning: suggest_loguniform has been deprecated in v3.0.0. This feature will be removed in v6.0.0. See https://github.com/optuna/optuna/releases/tag/v3.0.0. Use suggest_float(..., log=True) instead.\n",
      "  min_df = trial.suggest_loguniform('min_df', 0.00001, 0.25)\n",
      "/var/folders/40/566_m1zx41n6yjln_7kf7frrh0mrs_/T/ipykernel_61475/1880862330.py:3: FutureWarning: suggest_loguniform has been deprecated in v3.0.0. This feature will be removed in v6.0.0. See https://github.com/optuna/optuna/releases/tag/v3.0.0. Use suggest_float(..., log=True) instead.\n",
      "  max_df = trial.suggest_loguniform('max_df', 0.75, 1.0)\n"
     ]
    },
    {
     "name": "stderr",
     "output_type": "stream",
     "text": [
      "[I 2023-06-10 02:02:42,215] Trial 9 finished with value: 11.434777587380701 and parameters: {'min_df': 0.0023297370768997345, 'max_df': 0.9558561293138197}. Best is trial 0 with value: 0.1354294743210134.\n",
      "/var/folders/40/566_m1zx41n6yjln_7kf7frrh0mrs_/T/ipykernel_61475/1880862330.py:2: FutureWarning: suggest_loguniform has been deprecated in v3.0.0. This feature will be removed in v6.0.0. See https://github.com/optuna/optuna/releases/tag/v3.0.0. Use suggest_float(..., log=True) instead.\n",
      "  min_df = trial.suggest_loguniform('min_df', 0.00001, 0.25)\n",
      "/var/folders/40/566_m1zx41n6yjln_7kf7frrh0mrs_/T/ipykernel_61475/1880862330.py:3: FutureWarning: suggest_loguniform has been deprecated in v3.0.0. This feature will be removed in v6.0.0. See https://github.com/optuna/optuna/releases/tag/v3.0.0. Use suggest_float(..., log=True) instead.\n",
      "  max_df = trial.suggest_loguniform('max_df', 0.75, 1.0)\n",
      "[I 2023-06-10 02:02:42,227] Trial 10 finished with value: 0.13782279886022078 and parameters: {'min_df': 0.01363682703044258, 'max_df': 0.9052169226955166}. Best is trial 0 with value: 0.1354294743210134.\n",
      "/var/folders/40/566_m1zx41n6yjln_7kf7frrh0mrs_/T/ipykernel_61475/1880862330.py:2: FutureWarning: suggest_loguniform has been deprecated in v3.0.0. This feature will be removed in v6.0.0. See https://github.com/optuna/optuna/releases/tag/v3.0.0. Use suggest_float(..., log=True) instead.\n",
      "  min_df = trial.suggest_loguniform('min_df', 0.00001, 0.25)\n",
      "/var/folders/40/566_m1zx41n6yjln_7kf7frrh0mrs_/T/ipykernel_61475/1880862330.py:3: FutureWarning: suggest_loguniform has been deprecated in v3.0.0. This feature will be removed in v6.0.0. See https://github.com/optuna/optuna/releases/tag/v3.0.0. Use suggest_float(..., log=True) instead.\n",
      "  max_df = trial.suggest_loguniform('max_df', 0.75, 1.0)\n",
      "[I 2023-06-10 02:02:42,238] Trial 11 finished with value: 0.13484973543117262 and parameters: {'min_df': 0.010849501093295796, 'max_df': 0.9081204842579499}. Best is trial 11 with value: 0.13484973543117262.\n",
      "/var/folders/40/566_m1zx41n6yjln_7kf7frrh0mrs_/T/ipykernel_61475/1880862330.py:2: FutureWarning: suggest_loguniform has been deprecated in v3.0.0. This feature will be removed in v6.0.0. See https://github.com/optuna/optuna/releases/tag/v3.0.0. Use suggest_float(..., log=True) instead.\n",
      "  min_df = trial.suggest_loguniform('min_df', 0.00001, 0.25)\n",
      "/var/folders/40/566_m1zx41n6yjln_7kf7frrh0mrs_/T/ipykernel_61475/1880862330.py:3: FutureWarning: suggest_loguniform has been deprecated in v3.0.0. This feature will be removed in v6.0.0. See https://github.com/optuna/optuna/releases/tag/v3.0.0. Use suggest_float(..., log=True) instead.\n",
      "  max_df = trial.suggest_loguniform('max_df', 0.75, 1.0)\n",
      "[I 2023-06-10 02:02:42,250] Trial 12 finished with value: 0.1370763034847235 and parameters: {'min_df': 0.013996194361753162, 'max_df': 0.8968003814507013}. Best is trial 11 with value: 0.13484973543117262.\n",
      "/var/folders/40/566_m1zx41n6yjln_7kf7frrh0mrs_/T/ipykernel_61475/1880862330.py:2: FutureWarning: suggest_loguniform has been deprecated in v3.0.0. This feature will be removed in v6.0.0. See https://github.com/optuna/optuna/releases/tag/v3.0.0. Use suggest_float(..., log=True) instead.\n",
      "  min_df = trial.suggest_loguniform('min_df', 0.00001, 0.25)\n",
      "/var/folders/40/566_m1zx41n6yjln_7kf7frrh0mrs_/T/ipykernel_61475/1880862330.py:3: FutureWarning: suggest_loguniform has been deprecated in v3.0.0. This feature will be removed in v6.0.0. See https://github.com/optuna/optuna/releases/tag/v3.0.0. Use suggest_float(..., log=True) instead.\n",
      "  max_df = trial.suggest_loguniform('max_df', 0.75, 1.0)\n",
      "[I 2023-06-10 02:02:42,261] Trial 13 finished with value: 0.12862070360082226 and parameters: {'min_df': 0.01832513553891874, 'max_df': 0.9964486658390322}. Best is trial 13 with value: 0.12862070360082226.\n",
      "/var/folders/40/566_m1zx41n6yjln_7kf7frrh0mrs_/T/ipykernel_61475/1880862330.py:2: FutureWarning: suggest_loguniform has been deprecated in v3.0.0. This feature will be removed in v6.0.0. See https://github.com/optuna/optuna/releases/tag/v3.0.0. Use suggest_float(..., log=True) instead.\n",
      "  min_df = trial.suggest_loguniform('min_df', 0.00001, 0.25)\n",
      "/var/folders/40/566_m1zx41n6yjln_7kf7frrh0mrs_/T/ipykernel_61475/1880862330.py:3: FutureWarning: suggest_loguniform has been deprecated in v3.0.0. This feature will be removed in v6.0.0. See https://github.com/optuna/optuna/releases/tag/v3.0.0. Use suggest_float(..., log=True) instead.\n",
      "  max_df = trial.suggest_loguniform('max_df', 0.75, 1.0)\n",
      "[I 2023-06-10 02:02:42,272] Trial 14 finished with value: 0.1371762013980271 and parameters: {'min_df': 0.03277318023071298, 'max_df': 0.997578623993024}. Best is trial 13 with value: 0.12862070360082226.\n"
     ]
    }
   ],
   "source": [
    "study = optuna.create_study(direction='minimize')\n",
    "study.optimize(objective, n_trials=15)\n",
    "\n",
    "# Get the best hyperparameters and corresponding metrics\n",
    "best_params = study.best_params\n",
    "best_mse = study.best_value"
   ]
  },
  {
   "cell_type": "code",
   "execution_count": 62,
   "id": "622f0673",
   "metadata": {},
   "outputs": [
    {
     "data": {
      "text/plain": [
       "{'min_df': 0.01832513553891874, 'max_df': 0.9964486658390322}"
      ]
     },
     "execution_count": 62,
     "metadata": {},
     "output_type": "execute_result"
    }
   ],
   "source": [
    "best_params"
   ]
  },
  {
   "cell_type": "code",
   "execution_count": 63,
   "id": "25681050",
   "metadata": {},
   "outputs": [
    {
     "data": {
      "text/plain": [
       "0.12862070360082226"
      ]
     },
     "execution_count": 63,
     "metadata": {},
     "output_type": "execute_result"
    }
   ],
   "source": [
    "best_mse"
   ]
  },
  {
   "cell_type": "markdown",
   "id": "42bdbb84",
   "metadata": {},
   "source": [
    "**Save results**"
   ]
  },
  {
   "cell_type": "code",
   "execution_count": 64,
   "id": "b4ff2165",
   "metadata": {},
   "outputs": [],
   "source": [
    "params['count-vectorizer'] = best_params\n",
    "\n",
    "with open('params.yaml', 'w') as file:\n",
    "    documents = yaml.dump(params, file)\n"
   ]
  },
  {
   "cell_type": "code",
   "execution_count": 66,
   "id": "7cb963d5",
   "metadata": {},
   "outputs": [],
   "source": [
    "metrics = {}\n",
    "metrics['mse'] = best_mse\n",
    "\n",
    "with open('metrics.json', 'w') as f:\n",
    "    json.dump(metrics, f)"
   ]
  },
  {
   "cell_type": "code",
   "execution_count": 67,
   "id": "584d988f",
   "metadata": {},
   "outputs": [],
   "source": [
    "import pickle\n",
    "\n",
    "with open('models/linreg.pkl','wb') as f:\n",
    "    pickle.dump(model,f)"
   ]
  },
  {
   "cell_type": "code",
   "execution_count": null,
   "id": "e97f07fd",
   "metadata": {},
   "outputs": [],
   "source": []
  }
 ],
 "metadata": {
  "kernelspec": {
   "display_name": "venv",
   "language": "python",
   "name": "venv"
  },
  "language_info": {
   "codemirror_mode": {
    "name": "ipython",
    "version": 3
   },
   "file_extension": ".py",
   "mimetype": "text/x-python",
   "name": "python",
   "nbconvert_exporter": "python",
   "pygments_lexer": "ipython3",
   "version": "3.11.3"
  }
 },
 "nbformat": 4,
 "nbformat_minor": 5
}
